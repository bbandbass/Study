{
  "nbformat": 4,
  "nbformat_minor": 0,
  "metadata": {
    "colab": {
      "provenance": [],
      "mount_file_id": "1RdvntAWqk7nBpNBL87x6dhMV4yZrIqKq",
      "authorship_tag": "ABX9TyNXHkkQdk/B6pMVq/7wrxKQ",
      "include_colab_link": true
    },
    "kernelspec": {
      "name": "python3",
      "display_name": "Python 3"
    },
    "language_info": {
      "name": "python"
    }
  },
  "cells": [
    {
      "cell_type": "markdown",
      "metadata": {
        "id": "view-in-github",
        "colab_type": "text"
      },
      "source": [
        "<a href=\"https://colab.research.google.com/github/bbandbass/Study/blob/main/chp2_%EC%9E%90%EC%97%B0%EC%96%B4%EC%99%80_%EB%8B%A8%EC%96%B4%EC%9D%98_%EB%B6%84%EC%82%B0_%ED%91%9C%ED%98%84.ipynb\" target=\"_parent\"><img src=\"https://colab.research.google.com/assets/colab-badge.svg\" alt=\"Open In Colab\"/></a>"
      ]
    },
    {
      "cell_type": "markdown",
      "source": [
        "# 단어 표현 기법"
      ],
      "metadata": {
        "id": "bweVdXBHHLuI"
      }
    },
    {
      "cell_type": "markdown",
      "source": [
        "## 시소러스\n",
        "동의어나 유의어를 한 그룹으로 분류하여 컴퓨터에게 자연어를 이해시키려 한 기법  \n",
        "이에 그치치 않고 단어 사이의 상하위, 전체와 부분 등의 관계까지 정의해둔 경우도 존재\n",
        "\n",
        "* 시소러스의 문제점 \n",
        "  * 사람이 수작업으로 계층 구조, 관계 등을 레이블링 해주어야함\n",
        "  * 시대 변화에 대응하기 어렵다(단어가 사라지기도 하고 신조어가 생기기도 함)\n",
        "  * 사람을 쓰는 비용이 크다\n",
        "  * 비슷한 단어들이라 하여도 미묘한 차이가 존재하는 법인데, 이러한 차이를 표현하지는 못한다"
      ],
      "metadata": {
        "id": "KYaH1ktbHRi_"
      }
    },
    {
      "cell_type": "markdown",
      "source": [
        "## 통계 기반 기법\n",
        "텍스트 데이터로부터 자동으로 단어의 의미를 추출하여 사람이 손수 단어를 연결지을 필요가 없음  \n",
        "목표: 사람의 지식으로 가득한 말뭉치에서 자동으로, 효율적으로 그 핵심을 추출하는 것\n",
        "\n",
        "\n"
      ],
      "metadata": {
        "id": "IQOqgR9qHkB0"
      }
    },
    {
      "cell_type": "markdown",
      "source": [
        "### 파이썬으로 말뭉치 전처리하기"
      ],
      "metadata": {
        "id": "2LXljIiFU67e"
      }
    },
    {
      "cell_type": "code",
      "execution_count": 1,
      "metadata": {
        "id": "LCeG-Q0tG-TF"
      },
      "outputs": [],
      "source": [
        "text = \"You say goodbye and I say hello.\""
      ]
    },
    {
      "cell_type": "code",
      "source": [
        "text = text.lower()\n",
        "text = text.replace('.', ' .') # 후에 split하기 위해\n",
        "text"
      ],
      "metadata": {
        "colab": {
          "base_uri": "https://localhost:8080/",
          "height": 36
        },
        "id": "N60z05aCVkJG",
        "outputId": "523b4da2-a1a4-4033-e36f-43a77342e1b1"
      },
      "execution_count": 2,
      "outputs": [
        {
          "output_type": "execute_result",
          "data": {
            "text/plain": [
              "'you say goodbye and i say hello .'"
            ],
            "application/vnd.google.colaboratory.intrinsic+json": {
              "type": "string"
            }
          },
          "metadata": {},
          "execution_count": 2
        }
      ]
    },
    {
      "cell_type": "code",
      "source": [
        "words = text.split(' ')\n",
        "words"
      ],
      "metadata": {
        "colab": {
          "base_uri": "https://localhost:8080/"
        },
        "id": "bt2J0BWAVtmV",
        "outputId": "1c717450-e002-4d31-f367-b8c3d33a8c54"
      },
      "execution_count": 3,
      "outputs": [
        {
          "output_type": "execute_result",
          "data": {
            "text/plain": [
              "['you', 'say', 'goodbye', 'and', 'i', 'say', 'hello', '.']"
            ]
          },
          "metadata": {},
          "execution_count": 3
        }
      ]
    },
    {
      "cell_type": "code",
      "source": [
        "word_to_id = {}\n",
        "id_to_word = {}\n",
        "\n",
        "for word in words:\n",
        "  if word not in word_to_id:\n",
        "    new_id = len(word_to_id)\n",
        "    word_to_id[word] = new_id\n",
        "    id_to_word[new_id] = word"
      ],
      "metadata": {
        "id": "fAGBzjJXVv46"
      },
      "execution_count": 4,
      "outputs": []
    },
    {
      "cell_type": "code",
      "source": [
        "id_to_word"
      ],
      "metadata": {
        "colab": {
          "base_uri": "https://localhost:8080/"
        },
        "id": "3tI7AuqLXQXd",
        "outputId": "8d480d8a-fcb5-45b2-8f0c-be334ac8e53d"
      },
      "execution_count": 5,
      "outputs": [
        {
          "output_type": "execute_result",
          "data": {
            "text/plain": [
              "{0: 'you', 1: 'say', 2: 'goodbye', 3: 'and', 4: 'i', 5: 'hello', 6: '.'}"
            ]
          },
          "metadata": {},
          "execution_count": 5
        }
      ]
    },
    {
      "cell_type": "code",
      "source": [
        "word_to_id"
      ],
      "metadata": {
        "colab": {
          "base_uri": "https://localhost:8080/"
        },
        "id": "FQuK0aaIXR8P",
        "outputId": "382102f8-f9bc-410c-efb2-0e030bc3824d"
      },
      "execution_count": 6,
      "outputs": [
        {
          "output_type": "execute_result",
          "data": {
            "text/plain": [
              "{'you': 0, 'say': 1, 'goodbye': 2, 'and': 3, 'i': 4, 'hello': 5, '.': 6}"
            ]
          },
          "metadata": {},
          "execution_count": 6
        }
      ]
    },
    {
      "cell_type": "code",
      "source": [
        "id_to_word[1]"
      ],
      "metadata": {
        "colab": {
          "base_uri": "https://localhost:8080/",
          "height": 36
        },
        "id": "hFXuUMFEXShq",
        "outputId": "481ec04d-7978-4da6-b4cb-9eef4a391ba2"
      },
      "execution_count": 7,
      "outputs": [
        {
          "output_type": "execute_result",
          "data": {
            "text/plain": [
              "'say'"
            ],
            "application/vnd.google.colaboratory.intrinsic+json": {
              "type": "string"
            }
          },
          "metadata": {},
          "execution_count": 7
        }
      ]
    },
    {
      "cell_type": "code",
      "source": [
        "word_to_id['hello']"
      ],
      "metadata": {
        "colab": {
          "base_uri": "https://localhost:8080/"
        },
        "id": "ytdANyLiXWkE",
        "outputId": "b1aa3abc-2e49-45c5-8620-367825b42df4"
      },
      "execution_count": 8,
      "outputs": [
        {
          "output_type": "execute_result",
          "data": {
            "text/plain": [
              "5"
            ]
          },
          "metadata": {},
          "execution_count": 8
        }
      ]
    },
    {
      "cell_type": "code",
      "source": [
        "import numpy as np\n",
        "corpus = [word_to_id[w] for w in words]\n",
        "corpus = np.array(corpus)\n",
        "corpus"
      ],
      "metadata": {
        "colab": {
          "base_uri": "https://localhost:8080/"
        },
        "id": "lhlQwrJlXXz5",
        "outputId": "20fe810f-70f3-4490-b142-7a0db25f3dd4"
      },
      "execution_count": 9,
      "outputs": [
        {
          "output_type": "execute_result",
          "data": {
            "text/plain": [
              "array([0, 1, 2, 3, 4, 1, 5, 6])"
            ]
          },
          "metadata": {},
          "execution_count": 9
        }
      ]
    },
    {
      "cell_type": "code",
      "source": [
        "def preprocess(text):\n",
        "  text = text.lower()\n",
        "  text = text.replace('.', ' .')\n",
        "  words = text.split(' ')\n",
        "\n",
        "  word_to_id = {}\n",
        "  id_to_word = {}\n",
        "\n",
        "  for word in words:\n",
        "    if word not in word_to_id:\n",
        "      new_id = len(word_to_id)\n",
        "      word_to_id[word] = new_id\n",
        "      id_to_word[new_id] = word\n",
        "\n",
        "  corpus = np.array([word_to_id[w] for w in words])\n",
        "  \n",
        "  return corpus, word_to_id, id_to_word"
      ],
      "metadata": {
        "id": "s1Z5RG-kXsu7"
      },
      "execution_count": 10,
      "outputs": []
    },
    {
      "cell_type": "code",
      "source": [
        "text = 'You say goodbye and I say hello.'\n",
        "corpus, word_to_id, id_to_word = preprocess(text)"
      ],
      "metadata": {
        "id": "4KqFZRerYiQY"
      },
      "execution_count": 11,
      "outputs": []
    },
    {
      "cell_type": "markdown",
      "source": [
        "### 단어의 분산 표현\n",
        "단어의 의미를 정확하게 파악할 수 있는 벡터 표현  \n",
        "분포 가설: 단어의 의미는 주변 단어에 의해 형성된다. 단어 자체에는 의미가 없고, 그 단어가 사용된 맥락이 의미를 형성한다.  \n",
        "통계 기법: 어떤 단어에 주목했을 때 그 주변에 어떤 단어가 몇 번이나 등장하는지를 세어 집계하는 방법\n"
      ],
      "metadata": {
        "id": "hVUdRwNFZDQ_"
      }
    },
    {
      "cell_type": "code",
      "source": [
        "text = \"You say goodbye and I say hello.\"\n",
        "corpus, word_to_id, id_to_word = preprocess(text)\n",
        "\n",
        "print(corpus)\n",
        "\n",
        "print(id_to_word)"
      ],
      "metadata": {
        "colab": {
          "base_uri": "https://localhost:8080/"
        },
        "id": "RxzWocoiY7CV",
        "outputId": "41be2746-3841-4e98-b7d5-bd9ba1701acc"
      },
      "execution_count": 13,
      "outputs": [
        {
          "output_type": "stream",
          "name": "stdout",
          "text": [
            "[0 1 2 3 4 1 5 6]\n",
            "{0: 'you', 1: 'say', 2: 'goodbye', 3: 'and', 4: 'i', 5: 'hello', 6: '.'}\n"
          ]
        }
      ]
    },
    {
      "cell_type": "markdown",
      "source": [
        "co-occurrence matrix: 각 단어의 맥락(윈도우 크기 = 1)에 해당하는 단어의 빈도를 나타내 벡터로 표현한 것"
      ],
      "metadata": {
        "id": "ulozRRjYdDlm"
      }
    },
    {
      "cell_type": "code",
      "source": [
        "C = np.array([\n",
        "    [0, 1, 0, 0, 0, 0, 0],\n",
        "    [1, 0, 1, 0, 1, 1, 0],\n",
        "    [0, 1, 0, 1, 0, 0, 0],\n",
        "    [0, 0, 1, 0, 1, 0, 0],\n",
        "    [0, 1, 0, 1, 0, 0, 0],\n",
        "    [0, 1, 0, 0, 0, 0, 1],\n",
        "    [0, 0, 0, 0, 0, 1, 0],\n",
        "], dtype = np.int32)"
      ],
      "metadata": {
        "id": "9p4P0hEncuoi"
      },
      "execution_count": 14,
      "outputs": []
    },
    {
      "cell_type": "code",
      "source": [
        "print(C[0]) # ID가 0인 단어의 벡터 표현\n",
        "print(C[4]) # ID가 4인 단어의 벡터 표현\n",
        "print(C[word_to_id['goodbye']]) # 'goodbye'의 벡터 표현"
      ],
      "metadata": {
        "colab": {
          "base_uri": "https://localhost:8080/"
        },
        "id": "lBSiXvz2dn-Y",
        "outputId": "2d473ced-87b7-49cf-f0f8-55ecea230475"
      },
      "execution_count": 15,
      "outputs": [
        {
          "output_type": "stream",
          "name": "stdout",
          "text": [
            "[0 1 0 0 0 0 0]\n",
            "[0 1 0 1 0 0 0]\n",
            "[0 1 0 1 0 0 0]\n"
          ]
        }
      ]
    },
    {
      "cell_type": "code",
      "source": [
        "# co-occurence matrix 만드는 함수\n",
        "def create_co_matrix(corpus, vocab_size, window_size = 1):\n",
        "  corpus_size = len(corpus)\n",
        "  co_matrix = np.zeros((vocab_size, vocab_size), dtype = np.int32) \n",
        "\n",
        "  for idx, word_id in enumerate(corpus):\n",
        "    for i in range(1, window_size + 1): # i = 1 if window_size = 1\n",
        "      left_idx = idx - i\n",
        "      right_idx = idx + i\n",
        "\n",
        "      if left_idx >= 0:\n",
        "        left_word_id = corpus[left_idx]\n",
        "        co_matrix[word_id, left_word_id] += 1 # word_id번째 행, left_word_id번째 열의 값을 1로\n",
        "\n",
        "      if right_idx < corpus_size:\n",
        "        right_word_id = corpus[right_idx]\n",
        "        co_matrix[word_id, right_word_id] += 1\n",
        "  \n",
        "  return co_matrix"
      ],
      "metadata": {
        "id": "T8lGFgdNd1rH"
      },
      "execution_count": 18,
      "outputs": []
    },
    {
      "cell_type": "code",
      "source": [
        "# cosine similarity 구하는 함수\n",
        "def cos_similarity(x, y, eps = 1e-8):\n",
        "  # 분모가 0이 되면 0으로 나누기 오류가 발생하기 때문에 분모에 작은 값 eps를 더해줌\n",
        "  nx = x / (np.sqrt(np.sum(x ** 2)) + eps)\n",
        "  ny = y / (np.sqrt(np.sum(y ** 2)) + eps)\n",
        "  return np.dot(nx, ny) "
      ],
      "metadata": {
        "id": "8PUUx4pdhMVg"
      },
      "execution_count": 20,
      "outputs": []
    },
    {
      "cell_type": "code",
      "source": [
        "# you와 i의 유사도 구하기\n",
        "text = 'You say goodbye and I say hello.'\n",
        "corpus, word_to_id, id_to_word = preprocess(text)\n",
        "vocab_size = len(word_to_id)\n",
        "C = create_co_matrix(corpus, vocab_size)\n",
        "\n",
        "c0 = C[word_to_id['you']] # 'you'의 단어 벡터\n",
        "c1 = C[word_to_id['i']] # i의 단어 벡터\n",
        "\n",
        "print(cos_similarity(c0, c1)) # 'you'와 'i'의 코사인 유사도\n",
        "# -1과 1 사이의 값으로 1이면 같은 방향 -1이면 반대 방향"
      ],
      "metadata": {
        "colab": {
          "base_uri": "https://localhost:8080/"
        },
        "id": "3GNispQ_i_hW",
        "outputId": "56e374e6-cacc-4d54-b792-985be9f9c9b7"
      },
      "execution_count": 21,
      "outputs": [
        {
          "output_type": "stream",
          "name": "stdout",
          "text": [
            "0.7071067691154799\n"
          ]
        }
      ]
    },
    {
      "cell_type": "code",
      "source": [
        "# 검색어로 주어진 단어와 비슷한 단어를 유사도 순으로 출력하는 함수\n",
        "def most_similar(query, word_to_id, id_to_word, word_matrix, top = 5):\n",
        "  # 검색어 꺼내기\n",
        "  if query not in word_to_id:\n",
        "    print('%s(을)를 찾을 수 없습니다.' % query)\n",
        "    return \n",
        "  \n",
        "  print('\\n[query] ' + query)\n",
        "  query_id = word_to_id[query]\n",
        "  query_vec = word_matrix[query_id]\n",
        "\n",
        "  # 코사인 유사도 계산\n",
        "  vocab_size = len(id_to_word)\n",
        "  similarity = np.zeros(vocab_size)\n",
        "  for i in range(vocab_size):\n",
        "    similarity[i] = cos_similarity(word_matrix[i], query_vec)\n",
        "  \n",
        "  count = 0\n",
        "  for i in (-1 * similarity).argsort(): # 내림차순으로 출력\n",
        "    if id_to_word[i] == query:\n",
        "      continue\n",
        "    print(' %s: %s' % (id_to_word[i], similarity[i]))\n",
        "\n",
        "    count += 1\n",
        "    if count >= top: # count가 top을 넘으면 끝\n",
        "      return"
      ],
      "metadata": {
        "id": "_2gAboYOjf1q"
      },
      "execution_count": 25,
      "outputs": []
    },
    {
      "cell_type": "code",
      "source": [
        "x = np.array([100, -20, 2])\n",
        "print(x.argsort()) # argsort는 array를 오름차순 정렬 따라서 1(-20), 2(2), 0(100) 순으로 정렬된 것\n",
        "# 높은 순서부터, 즉, 내림차순으로 정렬하기 위해 마이너스를 곱한 이후 argsort()\n",
        "print((-x).argsort())"
      ],
      "metadata": {
        "colab": {
          "base_uri": "https://localhost:8080/"
        },
        "id": "rWK0ptwgm1Nm",
        "outputId": "877d1c6e-7940-4a4a-fd6f-a3857d26ac1b"
      },
      "execution_count": 23,
      "outputs": [
        {
          "output_type": "stream",
          "name": "stdout",
          "text": [
            "[1 2 0]\n",
            "[0 2 1]\n"
          ]
        }
      ]
    },
    {
      "cell_type": "code",
      "source": [
        "# you와 가장 유사한 단어들 출력\n",
        "text = 'You say goodbye and I say hello.'\n",
        "corpus, word_to_id, id_to_word = preprocess(text)\n",
        "vocab_size = len(word_to_id)\n",
        "C = create_co_matrix(corpus, vocab_size)\n",
        "\n",
        "most_similar('you', word_to_id, id_to_word, C, top = 5)"
      ],
      "metadata": {
        "colab": {
          "base_uri": "https://localhost:8080/"
        },
        "id": "1a1bnmdvm4LI",
        "outputId": "7fd64442-bf3b-4a9f-dc85-f3cbe89422f1"
      },
      "execution_count": 26,
      "outputs": [
        {
          "output_type": "stream",
          "name": "stdout",
          "text": [
            "\n",
            "[query] you\n",
            " goodbye: 0.7071067691154799\n",
            " i: 0.7071067691154799\n",
            " hello: 0.7071067691154799\n",
            " say: 0.0\n",
            " and: 0.0\n"
          ]
        }
      ]
    },
    {
      "cell_type": "markdown",
      "source": [
        "## 통계 계산 기법 개선하기"
      ],
      "metadata": {
        "id": "AAoPCHiJoGcj"
      }
    },
    {
      "cell_type": "markdown",
      "source": [
        "### PPMI"
      ],
      "metadata": {
        "id": "VTO_LXtb7XhN"
      }
    },
    {
      "cell_type": "code",
      "source": [
        "def ppmi(C, verbose = False, eps = 1e-8):\n",
        "  M = np.zeros_like(C, dtype = np.float32)\n",
        "  N = np.sum(C) # 동시발생행렬의 모든 1의 합\n",
        "  S = np.sum(C, axis = 0) # 특정 단어의 발생 빈도\n",
        "  total = C.shape[0] * C.shape[1]\n",
        "  cnt = 0\n",
        "\n",
        "  for i in range(C.shape[0]):\n",
        "    for j in range(C.shape[1]):\n",
        "      pmi = np.log2(C[i, j] * N / (S[j] * S[i]) + eps)\n",
        "      M[i, j] = max(0, pmi)\n",
        "\n",
        "      if verbose:\n",
        "        cnt += 1\n",
        "        if cnt % (total//100 + 1) == 0:\n",
        "          print('%.1f%% 완료' % (100 * cnt/total))\n",
        "\n",
        "  return M"
      ],
      "metadata": {
        "id": "Y6kVGkKLoH7O"
      },
      "execution_count": 48,
      "outputs": []
    },
    {
      "cell_type": "code",
      "source": [
        "text = 'You say goodbye and I say hello.'\n",
        "corpus, word_to_id, id_to_word = preprocess(text)\n",
        "vocab_size = len(word_to_id)\n",
        "C = create_co_matrix(corpus, vocab_size)\n",
        "W = ppmi(C)\n",
        "\n",
        "np.set_printoptions(precision = 3) # 유효 자리수를 3자리로 표시\n",
        "print('동시발생 행렬')\n",
        "print(C)\n",
        "print('-' * 50)\n",
        "print('PPMI')\n",
        "print(W)"
      ],
      "metadata": {
        "colab": {
          "base_uri": "https://localhost:8080/"
        },
        "id": "l1zDWlVu1FGC",
        "outputId": "fee2d270-2181-4b13-ad14-9e337530e89d"
      },
      "execution_count": 36,
      "outputs": [
        {
          "output_type": "stream",
          "name": "stdout",
          "text": [
            "동시발생 행렬\n",
            "[[0 1 0 0 0 0 0]\n",
            " [1 0 1 0 1 1 0]\n",
            " [0 1 0 1 0 0 0]\n",
            " [0 0 1 0 1 0 0]\n",
            " [0 1 0 1 0 0 0]\n",
            " [0 1 0 0 0 0 1]\n",
            " [0 0 0 0 0 1 0]]\n",
            "--------------------------------------------------\n",
            "PPMI\n",
            "[[0.    1.807 0.    0.    0.    0.    0.   ]\n",
            " [1.807 0.    0.807 0.    0.807 0.807 0.   ]\n",
            " [0.    0.807 0.    1.807 0.    0.    0.   ]\n",
            " [0.    0.    1.807 0.    1.807 0.    0.   ]\n",
            " [0.    0.807 0.    1.807 0.    0.    0.   ]\n",
            " [0.    0.807 0.    0.    0.    0.    2.807]\n",
            " [0.    0.    0.    0.    0.    2.807 0.   ]]\n"
          ]
        }
      ]
    },
    {
      "cell_type": "markdown",
      "source": [
        "하지만 PPMI도 여전히 말뭉치의 단어의 수가 증가함에 따라 벡터의 차원도 증가한다는 문제가 존재함.  \n",
        "또한, 행렬의 원소 대부분이 0인데, 즉, 원소 대부분이 중요하지 않음을 의미함.  \n",
        "이런 벡터는 노이즈에 약하고 견고하지 못하다는 약점도 지님\n",
        "  \n",
        "이렇게 원소 대부분이 0인 행렬이나 벡터를 sparse matrix/vector라 함"
      ],
      "metadata": {
        "id": "ABcvSbk27aYv"
      }
    },
    {
      "cell_type": "markdown",
      "source": [
        "## 차원 감소"
      ],
      "metadata": {
        "id": "o7ogx3fQ7sWd"
      }
    },
    {
      "cell_type": "markdown",
      "source": [
        "### SVD에 의한 차원 감소"
      ],
      "metadata": {
        "id": "NkXDUNG08J5s"
      }
    },
    {
      "cell_type": "code",
      "source": [
        "text = 'You say goodbye and I say hello.'\n",
        "corpus, word_to_id, id_to_word = preprocess(text)\n",
        "vocab_size = len(word_to_id)\n",
        "C = create_co_matrix(corpus, vocab_size)\n",
        "W = ppmi(C)\n",
        "\n",
        "U, S, V = np.linalg.svd(W)"
      ],
      "metadata": {
        "id": "F3_0UCYT7qWm"
      },
      "execution_count": 37,
      "outputs": []
    },
    {
      "cell_type": "code",
      "source": [
        "print(C[0])\n",
        "print(W[0])\n",
        "print(U[0])"
      ],
      "metadata": {
        "colab": {
          "base_uri": "https://localhost:8080/"
        },
        "id": "bYafK-sq8TBW",
        "outputId": "b919133e-7543-44ec-8a72-b207b595f2df"
      },
      "execution_count": 38,
      "outputs": [
        {
          "output_type": "stream",
          "name": "stdout",
          "text": [
            "[0 1 0 0 0 0 0]\n",
            "[0.    1.807 0.    0.    0.    0.    0.   ]\n",
            "[ 3.409e-01 -1.110e-16 -1.205e-01 -4.163e-16 -9.323e-01 -1.110e-16\n",
            " -2.426e-17]\n"
          ]
        }
      ]
    },
    {
      "cell_type": "markdown",
      "source": [
        "U(밀집벡터의 차원) 감소시키기, 즉 truncated SVD하기"
      ],
      "metadata": {
        "id": "yQFL2Vzy8d1e"
      }
    },
    {
      "cell_type": "code",
      "source": [
        "# 2차원 벡터로 줄이기\n",
        "print(U[0, :2])"
      ],
      "metadata": {
        "colab": {
          "base_uri": "https://localhost:8080/"
        },
        "id": "T76XMWbG8kAg",
        "outputId": "2bc0bdba-6136-45e3-f469-9c770450857b"
      },
      "execution_count": 39,
      "outputs": [
        {
          "output_type": "stream",
          "name": "stdout",
          "text": [
            "[ 3.409e-01 -1.110e-16]\n"
          ]
        }
      ]
    },
    {
      "cell_type": "code",
      "source": [
        "import matplotlib.pyplot as plt\n",
        "# 각 단어를 2차원 벡터로 표현 후 그래프로 그려보기\n",
        "for word, word_id in word_to_id.items():\n",
        "  plt.annotate(word, (U[word_id, 0], U[word_id, 1]))\n",
        "\n",
        "plt.scatter(U[:, 0], U[:, 1], alpha = 0.5)\n",
        "plt.show()"
      ],
      "metadata": {
        "colab": {
          "base_uri": "https://localhost:8080/",
          "height": 265
        },
        "id": "hHtH-GlK8n-l",
        "outputId": "9514b901-2476-48a4-d7cb-c8369f92a0b1"
      },
      "execution_count": 42,
      "outputs": [
        {
          "output_type": "display_data",
          "data": {
            "text/plain": [
              "<Figure size 432x288 with 1 Axes>"
            ],
            "image/png": "[encoded data removed]"
          },
          "metadata": {
            "needs_background": "light"
          }
        }
      ]
    },
    {
      "cell_type": "markdown",
      "source": [
        "### PTB 데이터셋에 지금까지 공부한 내용 적용해보기"
      ],
      "metadata": {
        "id": "Tl1YYYa8-9SH"
      }
    },
    {
      "cell_type": "code",
      "source": [
        "import sys\n",
        "sys.path.append('..')\n",
        "%cd /content/drive/MyDrive/밑바닥부터 시작하는 딥러닝2\n",
        "from dataset import ptb\n",
        "\n",
        "corpus, word_to_id, id_to_word = ptb.load_data('train')\n",
        "\n",
        "print('말뭉치 크기:', len(corpus))\n",
        "print('corpus[:30]:', corpus[:30])\n",
        "print()\n",
        "print('id_to_word[0]:', id_to_word[0])\n",
        "print('id_to_word[1]:', id_to_word[1])\n",
        "print('id_to_word[2]:', id_to_word[2])\n",
        "print()\n",
        "print(\"word_to_id['car']:\", word_to_id['car'])\n",
        "print(\"word_to_id['happy']:\", word_to_id['happy'])\n",
        "print(\"word_to_id['lexus']:\", word_to_id['lexus'])"
      ],
      "metadata": {
        "colab": {
          "base_uri": "https://localhost:8080/"
        },
        "id": "I16MjiBO9_Xu",
        "outputId": "ee4ad886-6f90-4b41-b1a4-37a1701f7796"
      },
      "execution_count": 43,
      "outputs": [
        {
          "output_type": "stream",
          "name": "stdout",
          "text": [
            "/content/drive/MyDrive/밑바닥부터 시작하는 딥러닝2\n",
            "Downloading ptb.train.txt ... \n",
            "Done\n",
            "말뭉치 크기: 929589\n",
            "corpus[:30]: [ 0  1  2  3  4  5  6  7  8  9 10 11 12 13 14 15 16 17 18 19 20 21 22 23\n",
            " 24 25 26 27 28 29]\n",
            "\n",
            "id_to_word[0]: aer\n",
            "id_to_word[1]: banknote\n",
            "id_to_word[2]: berlitz\n",
            "\n",
            "word_to_id['car']: 3856\n",
            "word_to_id['happy']: 4428\n",
            "word_to_id['lexus']: 7426\n"
          ]
        }
      ]
    },
    {
      "cell_type": "code",
      "source": [
        "window_size = 2\n",
        "wordvec_size = 100\n",
        "\n",
        "corpus, word_to_id, id_to_word = ptb.load_data('train')\n",
        "vocab_size = len(word_to_id)\n",
        "print('동시발생 수 계산...')\n",
        "C = create_co_matrix(corpus, vocab_size, window_size)\n",
        "print(\"PPMI 계산...\")\n",
        "W = ppmi(C, verbose = True)\n",
        "\n",
        "print('SVD 계산...')\n",
        "try:\n",
        "  # trucnated SVD(빠르다)\n",
        "  from sklearn.utils.extmath import randomized_svd\n",
        "  # np.linalg.svd()를 사용해도 되지만, 시간이 오래 걸리고 메모리도 훨씬 많이 사용하기 때문에\n",
        "  # 비교적 큰 행렬에 SVD를 적용해야 하는 경우에는 sklearn의 SVD를 사용\n",
        "  U, S, V = randomized_svd(W, n_components = wordvec_size, n_iter = 5, random_state = None)\n",
        "\n",
        "except ImportError:\n",
        "  # SVD(느리다)\n",
        "  U, S, V = np.linalg.svd(W)\n",
        "\n",
        "word_vecs = U[:, :wordvec_size]\n",
        "\n",
        "querys = ['you', 'year', 'car', 'toyota']\n",
        "for query in querys:\n",
        "  most_similar(query, word_to_id, id_to_word, word_vecs, top = 5)"
      ],
      "metadata": {
        "colab": {
          "base_uri": "https://localhost:8080/"
        },
        "id": "b-9UDXcO-uPK",
        "outputId": "d50dae98-281c-4c68-8dd7-0a62dfaf4140"
      },
      "execution_count": 50,
      "outputs": [
        {
          "output_type": "stream",
          "name": "stdout",
          "text": [
            "동시발생 수 계산...\n",
            "PPMI 계산...\n",
            "1.0% 완료\n",
            "2.0% 완료\n",
            "3.0% 완료\n",
            "4.0% 완료\n",
            "5.0% 완료\n",
            "6.0% 완료\n",
            "7.0% 완료\n",
            "8.0% 완료\n",
            "9.0% 완료\n",
            "10.0% 완료\n",
            "11.0% 완료\n",
            "12.0% 완료\n",
            "13.0% 완료\n",
            "14.0% 완료\n",
            "15.0% 완료\n",
            "16.0% 완료\n",
            "17.0% 완료\n",
            "18.0% 완료\n",
            "19.0% 완료\n",
            "20.0% 완료\n",
            "21.0% 완료\n",
            "22.0% 완료\n",
            "23.0% 완료\n",
            "24.0% 완료\n",
            "25.0% 완료\n",
            "26.0% 완료\n",
            "27.0% 완료\n",
            "28.0% 완료\n",
            "29.0% 완료\n",
            "30.0% 완료\n",
            "31.0% 완료\n",
            "32.0% 완료\n",
            "33.0% 완료\n",
            "34.0% 완료\n",
            "35.0% 완료\n",
            "36.0% 완료\n",
            "37.0% 완료\n",
            "38.0% 완료\n",
            "39.0% 완료\n",
            "40.0% 완료\n",
            "41.0% 완료\n",
            "42.0% 완료\n",
            "43.0% 완료\n",
            "44.0% 완료\n",
            "45.0% 완료\n",
            "46.0% 완료\n",
            "47.0% 완료\n",
            "48.0% 완료\n",
            "49.0% 완료\n",
            "50.0% 완료\n",
            "51.0% 완료\n",
            "52.0% 완료\n",
            "53.0% 완료\n",
            "54.0% 완료\n",
            "55.0% 완료\n",
            "56.0% 완료\n",
            "57.0% 완료\n",
            "58.0% 완료\n",
            "59.0% 완료\n",
            "60.0% 완료\n",
            "61.0% 완료\n",
            "62.0% 완료\n",
            "63.0% 완료\n",
            "64.0% 완료\n",
            "65.0% 완료\n",
            "66.0% 완료\n",
            "67.0% 완료\n",
            "68.0% 완료\n",
            "69.0% 완료\n",
            "70.0% 완료\n",
            "71.0% 완료\n",
            "72.0% 완료\n",
            "73.0% 완료\n",
            "74.0% 완료\n",
            "75.0% 완료\n",
            "76.0% 완료\n",
            "77.0% 완료\n",
            "78.0% 완료\n",
            "79.0% 완료\n",
            "80.0% 완료\n",
            "81.0% 완료\n",
            "82.0% 완료\n",
            "83.0% 완료\n",
            "84.0% 완료\n",
            "85.0% 완료\n",
            "86.0% 완료\n",
            "87.0% 완료\n",
            "88.0% 완료\n",
            "89.0% 완료\n",
            "90.0% 완료\n",
            "91.0% 완료\n",
            "92.0% 완료\n",
            "93.0% 완료\n",
            "94.0% 완료\n",
            "95.0% 완료\n",
            "96.0% 완료\n",
            "97.0% 완료\n",
            "98.0% 완료\n",
            "99.0% 완료\n",
            "SVD 계산...\n",
            "\n",
            "[query] you\n",
            " i: 0.7034521102905273\n",
            " we: 0.6689209938049316\n",
            " do: 0.5704985857009888\n",
            " anybody: 0.569016695022583\n",
            " 'll: 0.5065946578979492\n",
            "\n",
            "[query] year\n",
            " month: 0.7410588264465332\n",
            " last: 0.6589667797088623\n",
            " quarter: 0.6448602080345154\n",
            " earlier: 0.6324372291564941\n",
            " june: 0.6225214600563049\n",
            "\n",
            "[query] car\n",
            " auto: 0.6146655082702637\n",
            " luxury: 0.6132323145866394\n",
            " vehicle: 0.5476218461990356\n",
            " cars: 0.48357635736465454\n",
            " corsica: 0.4652107059955597\n",
            "\n",
            "[query] toyota\n",
            " motor: 0.7598035931587219\n",
            " honda: 0.7178531289100647\n",
            " nissan: 0.701559841632843\n",
            " motors: 0.6938857436180115\n",
            " lexus: 0.6565853357315063\n"
          ]
        }
      ]
    },
    {
      "cell_type": "markdown",
      "source": [
        "randomized_svd이기 때문에, 그 결과는 매번 다를 수 있다."
      ],
      "metadata": {
        "id": "rpBhOCw4FmKD"
      }
    }
  ]
}
